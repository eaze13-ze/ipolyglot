{
 "cells": [
  {
   "cell_type": "markdown",
   "metadata": {},
   "source": [
    "## Polyglot Jupyter Notebook: Conference Contributions per Country"
   ]
  },
  {
   "cell_type": "markdown",
   "metadata": {},
   "source": [
    "#### Scraping the conference data from a web table using `ruby's nokogiri` library"
   ]
  },
  {
   "cell_type": "code",
   "execution_count": 2,
   "metadata": {},
   "outputs": [],
   "source": [
    "%polyglot js\n",
    "var myName = 'Jakob'"
   ]
  },
  {
   "cell_type": "code",
   "execution_count": 3,
   "metadata": {},
   "outputs": [
    {
     "data": {
      "text/plain": [
       "null"
      ]
     },
     "execution_count": 3,
     "metadata": {},
     "output_type": "execute_result"
    }
   ],
   "source": [
    "%polyglot js\n",
    "Polyglot.import('polyglotVariableBlacklist')"
   ]
  },
  {
   "cell_type": "code",
   "execution_count": null,
   "metadata": {},
   "outputs": [],
   "source": [
    "%polyglot js\n",
    "myName = 'Jacob'\n",
    "var myOtherName = 'Hans'"
   ]
  },
  {
   "cell_type": "code",
   "execution_count": null,
   "metadata": {},
   "outputs": [],
   "source": [
    "%polyglot js\n",
    "Polyglot.import('__bindings')"
   ]
  },
  {
   "cell_type": "code",
   "execution_count": null,
   "metadata": {},
   "outputs": [],
   "source": [
    "%polyglot python\n",
    "import polyglot\n",
    "myThirdName = 'Nico'\n",
    "myThirdName"
   ]
  },
  {
   "cell_type": "code",
   "execution_count": null,
   "metadata": {},
   "outputs": [],
   "source": [
    "%polyglot R\n",
    "myFourthName = 'Jonas'\n",
    "toString(myThirdName)"
   ]
  },
  {
   "cell_type": "code",
   "execution_count": null,
   "metadata": {
    "scrolled": true
   },
   "outputs": [],
   "source": [
    "%polyglot ruby rows\n",
    "\n",
    "require \"nokogiri\"; require \"open-uri\"\n",
    "url = \"https://2018.splashcon.org/people-index\" # \"https://2019.programming-conference.org/people-index\"\n",
    "doc = Nokogiri::HTML(open(url))\n",
    "# use global variables as a workaround for https://github.com/oracle/truffleruby/issues/1695\n",
    "$rows = doc.css(\"#results-table .row\").map { |row| row.css(\"div\").map(&:content) }\n",
    "$rows.length"
   ]
  },
  {
   "cell_type": "markdown",
   "metadata": {},
   "source": [
    "#### Compiling a list of all contributing countries using `python's pycountry` library"
   ]
  },
  {
   "cell_type": "code",
   "execution_count": null,
   "metadata": {},
   "outputs": [],
   "source": [
    "%polyglot python countries\n",
    "\n",
    "import polyglot\n",
    "import pycountry\n",
    "rows = polyglot.import_value('rows')\n",
    "countries = [c.name for c in pycountry.countries for row in rows if c.name in str(row[2]) or c.name in str(row[1])]\n",
    "len(countries)"
   ]
  },
  {
   "cell_type": "markdown",
   "metadata": {},
   "source": [
    "#### Writing a helper function to display SVG graphics using `javascript`"
   ]
  },
  {
   "cell_type": "code",
   "execution_count": null,
   "metadata": {},
   "outputs": [],
   "source": [
    "%polyglot js\n",
    "\n",
    "if (typeof SvgDisplayable === 'undefined') {\n",
    "    var SvgDisplayable\n",
    "}\n",
    "\n",
    "SvgDisplayable = class {\n",
    "    constructor(svgCode) {\n",
    "        this.svg = '' + svgCode;\n",
    "    }\n",
    "\n",
    "    _toSvg() {\n",
    "        return this.svg\n",
    "    }\n",
    "}\n",
    "\n",
    "var convertSvgToDisplayable = svgCode => new SvgDisplayable(svgCode)"
   ]
  },
  {
   "cell_type": "markdown",
   "metadata": {},
   "source": [
    "#### Plotting the conference contributions per country using `R's ggplot2` library"
   ]
  },
  {
   "cell_type": "code",
   "execution_count": null,
   "metadata": {
    "scrolled": false
   },
   "outputs": [],
   "source": [
    "%polyglot R\n",
    "\n",
    "display <- import(\"convertSvgToDisplayable\")\n",
    "countries <- import(\"countries\")\n",
    "\n",
    "library(ggplot2)\n",
    "\n",
    "values <- data.frame(contributors = countries)\n",
    "data <- aggregate(x = values, by = list(countries = values$contributors), FUN = length)\n",
    "\n",
    "svg()\n",
    "plt <- ggplot(data, aes(x = reorder(countries, +contributors), contributors)) +\n",
    "  geom_bar(stat = \"identity\") + xlab(\"\") + ylab(\"\") + coord_flip() +\n",
    "  geom_hline(aes(yintercept = mean(contributors)))\n",
    "print(plt)\n",
    "svg <- svg.off()\n",
    "\n",
    "display(svg)"
   ]
  },
  {
   "cell_type": "code",
   "execution_count": null,
   "metadata": {},
   "outputs": [],
   "source": []
  }
 ],
 "metadata": {
  "kernelspec": {
   "display_name": "Polyglot (GraalJS)",
   "language": "polyglot",
   "name": "polyglot"
  },
  "language_info": {
   "file_extension": ".js",
   "mimetype": "application/javascript",
   "name": "javascript",
   "version": "10.15.2"
  }
 },
 "nbformat": 4,
 "nbformat_minor": 2
}
